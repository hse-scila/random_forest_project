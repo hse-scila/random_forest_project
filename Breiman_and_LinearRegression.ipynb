{
 "cells": [
  {
   "cell_type": "code",
   "execution_count": 3,
   "metadata": {},
   "outputs": [
    {
     "name": "stdout",
     "output_type": "stream",
     "text": [
      "(11250, 26)\n"
     ]
    }
   ],
   "source": [
    "#Breiman's random forest with Scikit-learn  \n",
    "from sklearn.ensemble import RandomForestRegressor\n",
    "from sklearn import datasets, linear_model\n",
    "from sklearn.metrics import mean_squared_error,  mean_absolute_error, r2_score\n",
    "import pandas as pd\n",
    "from tqdm import tqdm\n",
    "from scipy.io.arff import loadarff\n",
    "import numpy as np\n",
    "from sklearn.model_selection import train_test_split\n",
    "from sklearn.preprocessing import LabelEncoder\n",
    "import matplotlib.pyplot as plt\n",
    "\n",
    "data = loadarff('sulfur.arff')\n",
    "df = pd.DataFrame(data[0])\n",
    "\n",
    "X_train, X_test, y_train, y_test = train_test_split(df.drop(columns='y1'), df['y1'], test_size=0.25, random_state=42)\n",
    "X_train_np = X_train.to_numpy()\n",
    "X_test_np = X_test.to_numpy()\n",
    "y_train_np = y_train.to_numpy()\n",
    "y_test_np = y_test.to_numpy()\n",
    "print(X_train_np.shape)\n",
    "\n",
    "regr = RandomForestRegressor(n_estimators=500,max_depth=16, min_samples_split=10, min_samples_leaf=5, max_features=int(np.sqrt(X_train_np.shape[1])), bootstrap=True, oob_score=False)\n",
    "regr.fit(X_train_np, y_train_np)\n",
    "preds = regr.predict(X_test_np)\n",
    "\n",
    "results = []\n",
    "results.append((mean_squared_error(y_test_np, preds),mean_absolute_error(y_test_np, preds), r2_score(y_test_np, preds)))\n",
    "results = pd.DataFrame(results, columns=['MSE','MAE', 'R2'])\n",
    "results.to_csv('sulfur_results_BreimanRF.csv')"
   ]
  },
  {
   "cell_type": "code",
   "execution_count": 4,
   "metadata": {},
   "outputs": [],
   "source": [
    "#multiple linear regression on the same dataset\n",
    "import numpy as np\n",
    "from sklearn import datasets, linear_model\n",
    "from sklearn.metrics import mean_squared_error, mean_absolute_error, r2_score\n",
    "\n",
    "# Create linear regression object\n",
    "regr = linear_model.LinearRegression()\n",
    "\n",
    "# Train the model using the training sets\n",
    "regr.fit(X_train_np, y_train_np)\n",
    "\n",
    "# Make predictions using the testing set\n",
    "y_pred = regr.predict(X_test_np)\n",
    "\n",
    "\n",
    "results = []\n",
    "results.append((mean_squared_error(y_test_np, y_pred),mean_absolute_error(y_test_np, y_pred), r2_score(y_test_np, y_pred)))\n",
    "results = pd.DataFrame(results, columns=['MSE','MAE', 'R2'])\n",
    "results.to_csv('sulfur_results_LinearRegression.csv')"
   ]
  },
  {
   "cell_type": "code",
   "execution_count": null,
   "metadata": {},
   "outputs": [],
   "source": []
  }
 ],
 "metadata": {
  "kernelspec": {
   "display_name": "Python 3",
   "language": "python",
   "name": "python3"
  },
  "language_info": {
   "codemirror_mode": {
    "name": "ipython",
    "version": 3
   },
   "file_extension": ".py",
   "mimetype": "text/x-python",
   "name": "python",
   "nbconvert_exporter": "python",
   "pygments_lexer": "ipython3",
   "version": "3.7.1"
  }
 },
 "nbformat": 4,
 "nbformat_minor": 4
}
